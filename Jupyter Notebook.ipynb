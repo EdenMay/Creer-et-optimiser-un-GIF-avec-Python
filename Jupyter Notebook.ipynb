{
 "cells": [
  {
   "cell_type": "code",
   "execution_count": 1,
   "metadata": {},
   "outputs": [],
   "source": [
    "# Fenêtres d'affichage flottantes pour les figures\n",
    "%matplotlib qt \n",
    "import imageio as iio\n",
    "import matplotlib.pyplot as plt\n",
    "import numpy as np\n",
    "from pygifsicle import optimize"
   ]
  },
  {
   "cell_type": "markdown",
   "metadata": {},
   "source": [
    "### Coeur ballant"
   ]
  },
  {
   "cell_type": "code",
   "execution_count": 2,
   "metadata": {},
   "outputs": [],
   "source": [
    "plt.close() # Fermeture de toute fenêtre ouverte antérieurement\n",
    "\n",
    "# Implémentation de l'équation paramétrique\n",
    "t = np.linspace(0,2*np.pi, 50) # Je choisis 50 points entre 0 et 2pi\n",
    "x = 16*(np.sin(t))**3\n",
    "y = 13*np.cos(t) - 5*np.cos(2*t) - 2*np.cos(3*t) - np.cos(4*t)\n",
    "\n",
    "# Enregistrement des images\n",
    "for i in range(len(t)):\n",
    "    plt.scatter(x[i], y[i]) # Tracé\n",
    "    plt.savefig(f\"images/{i}.jpg\")  # Enregistrement dans le dossier 'images'"
   ]
  },
  {
   "cell_type": "code",
   "execution_count": 3,
   "metadata": {},
   "outputs": [],
   "source": [
    "# Génération du GIF\n",
    "frames = np.stack([iio.imread(f\"images/{i}.jpg\") for i in range(len(t))], axis = 0)\n",
    "iio.mimwrite('coeur.gif', frames)"
   ]
  },
  {
   "cell_type": "code",
   "execution_count": 4,
   "metadata": {},
   "outputs": [],
   "source": [
    "# Génération du GIF avec subrectangles : optimisation 1\n",
    "frames = np.stack([iio.imread(f\"images/{i}.jpg\") for i in range(len(t))], axis = 0)\n",
    "iio.mimwrite('coeur_optimise.gif', frames, subrectangles = True)"
   ]
  },
  {
   "cell_type": "markdown",
   "metadata": {},
   "source": [
    "### Coeur fixe "
   ]
  },
  {
   "cell_type": "code",
   "execution_count": 5,
   "metadata": {},
   "outputs": [],
   "source": [
    "plt.close()\n",
    "\n",
    "t = np.linspace(0,2*np.pi, 50)\n",
    "x = 16*(np.sin(t))**3\n",
    "y = 13*np.cos(t) - 5*np.cos(2*t) - 2*np.cos(3*t) - np.cos(4*t)\n",
    "\n",
    "\n",
    "for i in range(len(t)):\n",
    "    plt.scatter(x[i], y[i])\n",
    "    # On rajoute des limites fixes aux axes des images individuelles\n",
    "    plt.xlim([-17,17])\n",
    "    plt.ylim([-18,13])\n",
    "    plt.savefig(f\"images2/{i}.jpg\")\n"
   ]
  },
  {
   "cell_type": "code",
   "execution_count": 6,
   "metadata": {},
   "outputs": [],
   "source": [
    "# Génération du GIF \n",
    "frames = np.stack([iio.imread(f\"images2/{i}.jpg\") for i in range(len(t))], axis = 0)\n",
    "iio.mimwrite('coeur_fixe.gif', frames)"
   ]
  },
  {
   "cell_type": "code",
   "execution_count": 7,
   "metadata": {},
   "outputs": [],
   "source": [
    "# Génération du GIF avec subrectangles : optimisation \n",
    "frames = np.stack([iio.imread(f\"images2/{i}.jpg\") for i in range(len(t))], axis = 0)\n",
    "iio.mimwrite('coeur_fixe_optimise.gif', frames, subrectangles = True)"
   ]
  },
  {
   "cell_type": "code",
   "execution_count": null,
   "metadata": {},
   "outputs": [],
   "source": []
  }
 ],
 "metadata": {
  "kernelspec": {
   "display_name": "Python 3",
   "language": "python",
   "name": "python3"
  },
  "language_info": {
   "codemirror_mode": {
    "name": "ipython",
    "version": 3
   },
   "file_extension": ".py",
   "mimetype": "text/x-python",
   "name": "python",
   "nbconvert_exporter": "python",
   "pygments_lexer": "ipython3",
   "version": "3.7.3"
  }
 },
 "nbformat": 4,
 "nbformat_minor": 4
}
